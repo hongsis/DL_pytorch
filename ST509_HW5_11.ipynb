{
 "cells": [
  {
   "cell_type": "code",
   "execution_count": null,
   "id": "61138b3a",
   "metadata": {},
   "outputs": [
    {
     "data": {
      "text/plain": [
       "array([0.69814569, 0.84314715, 1.00051133, 0.77973119, 0.9513289 ,\n",
       "       0.89052534])"
      ]
     },
     "execution_count": 8,
     "metadata": {},
     "output_type": "execute_result"
    }
   ],
   "source": [
    "import pandas as pd\n",
    "import numpy as np\n",
    "from cvxopt import matrix, solvers\n",
    "\n",
    "n = 100\n",
    "p = 5\n",
    "\n",
    "beta = np.ones(p)\n",
    "eps = np.random.normal(size=n)\n",
    "\n",
    "X = np.random.normal(size=(n, p))\n",
    "beta = np.ones(p)\n",
    "eps = np.random.normal(size=n)\n",
    "y = np.dot(X, beta) + eps\n",
    "\n",
    "tau = 0.5\n",
    "lmbda = 1\n",
    "\n",
    "def kqr(X, y, tau, lmbda):\n",
    "# Kernel Matrix\n",
    "    K = matrix(np.dot(X, X.T) / lmbda)\n",
    "  \n",
    "    # Construct P, q, G, and h matrices\n",
    "    P = K\n",
    "    q = matrix(-y)\n",
    "    G = matrix(np.vstack((-np.eye(n), np.eye(n))))\n",
    "    h = matrix(np.hstack((np.zeros(n), np.repeat(tau, n))))\n",
    "  \n",
    "    # Solve the optimization problem\n",
    "    solvers.options['show_progress'] = False\n",
    "    sol = solvers.qp(P, q, G, h)\n",
    "    theta = np.array(sol['x']).flatten()\n",
    "  \n",
    "    # Support Vectors\n",
    "    sv_index = np.where(theta > 1e-5)[0]\n",
    "  \n",
    "    # Primal Solution\n",
    "    beta = np.dot(theta, X) / lmbda\n",
    "  \n",
    "    # Intercept\n",
    "    beta0 = np.mean(y[sv_index] - np.dot(X[sv_index, :], beta))\n",
    "  \n",
    "    obj = np.append(beta0, beta)\n",
    "  \n",
    "    return obj\n",
    "\n",
    "kqr(X, y, tau, lmbda)"
   ]
  },
  {
   "cell_type": "code",
   "execution_count": null,
   "id": "4a38573d",
   "metadata": {},
   "outputs": [],
   "source": []
  }
 ],
 "metadata": {
  "kernelspec": {
   "display_name": "Python 3 (ipykernel)",
   "language": "python",
   "name": "python3"
  },
  "language_info": {
   "codemirror_mode": {
    "name": "ipython",
    "version": 3
   },
   "file_extension": ".py",
   "mimetype": "text/x-python",
   "name": "python",
   "nbconvert_exporter": "python",
   "pygments_lexer": "ipython3",
   "version": "3.11.4"
  }
 },
 "nbformat": 4,
 "nbformat_minor": 5
}
